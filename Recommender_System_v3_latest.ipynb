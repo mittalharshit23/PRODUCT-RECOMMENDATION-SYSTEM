{
  "nbformat": 4,
  "nbformat_minor": 0,
  "metadata": {
    "colab": {
      "provenance": []
    },
    "kernelspec": {
      "name": "python3",
      "display_name": "Python 3"
    },
    "language_info": {
      "name": "python"
    }
  },
  "cells": [
    {
      "cell_type": "markdown",
      "source": [
        "# **Product Recommender App**"
      ],
      "metadata": {
        "id": "redEoJbtLOHS"
      }
    },
    {
      "cell_type": "markdown",
      "source": [
        "**installing important libraries**"
      ],
      "metadata": {
        "id": "gNVVeQQ_Lm0e"
      }
    },
    {
      "cell_type": "code",
      "source": [
        "! pip install pandas\n",
        "! pip install numpy\n",
        "! pip install scikit-learn\n",
        "! pip install matplotlib\n",
        "! pip install joblib\n",
        "! pip install streamlit\n"
      ],
      "metadata": {
        "colab": {
          "base_uri": "https://localhost:8080/"
        },
        "id": "tNLBumsrB1uH",
        "outputId": "440b945e-2395-475b-8ab9-bc95faf0fcba"
      },
      "execution_count": null,
      "outputs": [
        {
          "output_type": "stream",
          "name": "stdout",
          "text": [
            "Requirement already satisfied: pandas in /usr/local/lib/python3.12/dist-packages (2.2.2)\n",
            "Requirement already satisfied: numpy>=1.26.0 in /usr/local/lib/python3.12/dist-packages (from pandas) (2.0.2)\n",
            "Requirement already satisfied: python-dateutil>=2.8.2 in /usr/local/lib/python3.12/dist-packages (from pandas) (2.9.0.post0)\n",
            "Requirement already satisfied: pytz>=2020.1 in /usr/local/lib/python3.12/dist-packages (from pandas) (2025.2)\n",
            "Requirement already satisfied: tzdata>=2022.7 in /usr/local/lib/python3.12/dist-packages (from pandas) (2025.2)\n",
            "Requirement already satisfied: six>=1.5 in /usr/local/lib/python3.12/dist-packages (from python-dateutil>=2.8.2->pandas) (1.17.0)\n",
            "Requirement already satisfied: numpy in /usr/local/lib/python3.12/dist-packages (2.0.2)\n",
            "Requirement already satisfied: scikit-learn in /usr/local/lib/python3.12/dist-packages (1.6.1)\n",
            "Requirement already satisfied: numpy>=1.19.5 in /usr/local/lib/python3.12/dist-packages (from scikit-learn) (2.0.2)\n",
            "Requirement already satisfied: scipy>=1.6.0 in /usr/local/lib/python3.12/dist-packages (from scikit-learn) (1.16.2)\n",
            "Requirement already satisfied: joblib>=1.2.0 in /usr/local/lib/python3.12/dist-packages (from scikit-learn) (1.5.2)\n",
            "Requirement already satisfied: threadpoolctl>=3.1.0 in /usr/local/lib/python3.12/dist-packages (from scikit-learn) (3.6.0)\n",
            "Requirement already satisfied: matplotlib in /usr/local/lib/python3.12/dist-packages (3.10.0)\n",
            "Requirement already satisfied: contourpy>=1.0.1 in /usr/local/lib/python3.12/dist-packages (from matplotlib) (1.3.3)\n",
            "Requirement already satisfied: cycler>=0.10 in /usr/local/lib/python3.12/dist-packages (from matplotlib) (0.12.1)\n",
            "Requirement already satisfied: fonttools>=4.22.0 in /usr/local/lib/python3.12/dist-packages (from matplotlib) (4.60.1)\n",
            "Requirement already satisfied: kiwisolver>=1.3.1 in /usr/local/lib/python3.12/dist-packages (from matplotlib) (1.4.9)\n",
            "Requirement already satisfied: numpy>=1.23 in /usr/local/lib/python3.12/dist-packages (from matplotlib) (2.0.2)\n",
            "Requirement already satisfied: packaging>=20.0 in /usr/local/lib/python3.12/dist-packages (from matplotlib) (25.0)\n",
            "Requirement already satisfied: pillow>=8 in /usr/local/lib/python3.12/dist-packages (from matplotlib) (11.3.0)\n",
            "Requirement already satisfied: pyparsing>=2.3.1 in /usr/local/lib/python3.12/dist-packages (from matplotlib) (3.2.5)\n",
            "Requirement already satisfied: python-dateutil>=2.7 in /usr/local/lib/python3.12/dist-packages (from matplotlib) (2.9.0.post0)\n",
            "Requirement already satisfied: six>=1.5 in /usr/local/lib/python3.12/dist-packages (from python-dateutil>=2.7->matplotlib) (1.17.0)\n",
            "Requirement already satisfied: joblib in /usr/local/lib/python3.12/dist-packages (1.5.2)\n",
            "Requirement already satisfied: streamlit in /usr/local/lib/python3.12/dist-packages (1.50.0)\n",
            "Requirement already satisfied: altair!=5.4.0,!=5.4.1,<6,>=4.0 in /usr/local/lib/python3.12/dist-packages (from streamlit) (5.5.0)\n",
            "Requirement already satisfied: blinker<2,>=1.5.0 in /usr/local/lib/python3.12/dist-packages (from streamlit) (1.9.0)\n",
            "Requirement already satisfied: cachetools<7,>=4.0 in /usr/local/lib/python3.12/dist-packages (from streamlit) (5.5.2)\n",
            "Requirement already satisfied: click<9,>=7.0 in /usr/local/lib/python3.12/dist-packages (from streamlit) (8.3.0)\n",
            "Requirement already satisfied: numpy<3,>=1.23 in /usr/local/lib/python3.12/dist-packages (from streamlit) (2.0.2)\n",
            "Requirement already satisfied: packaging<26,>=20 in /usr/local/lib/python3.12/dist-packages (from streamlit) (25.0)\n",
            "Requirement already satisfied: pandas<3,>=1.4.0 in /usr/local/lib/python3.12/dist-packages (from streamlit) (2.2.2)\n",
            "Requirement already satisfied: pillow<12,>=7.1.0 in /usr/local/lib/python3.12/dist-packages (from streamlit) (11.3.0)\n",
            "Requirement already satisfied: protobuf<7,>=3.20 in /usr/local/lib/python3.12/dist-packages (from streamlit) (5.29.5)\n",
            "Requirement already satisfied: pyarrow>=7.0 in /usr/local/lib/python3.12/dist-packages (from streamlit) (18.1.0)\n",
            "Requirement already satisfied: requests<3,>=2.27 in /usr/local/lib/python3.12/dist-packages (from streamlit) (2.32.4)\n",
            "Requirement already satisfied: tenacity<10,>=8.1.0 in /usr/local/lib/python3.12/dist-packages (from streamlit) (8.5.0)\n",
            "Requirement already satisfied: toml<2,>=0.10.1 in /usr/local/lib/python3.12/dist-packages (from streamlit) (0.10.2)\n",
            "Requirement already satisfied: typing-extensions<5,>=4.4.0 in /usr/local/lib/python3.12/dist-packages (from streamlit) (4.15.0)\n",
            "Requirement already satisfied: watchdog<7,>=2.1.5 in /usr/local/lib/python3.12/dist-packages (from streamlit) (6.0.0)\n",
            "Requirement already satisfied: gitpython!=3.1.19,<4,>=3.0.7 in /usr/local/lib/python3.12/dist-packages (from streamlit) (3.1.45)\n",
            "Requirement already satisfied: pydeck<1,>=0.8.0b4 in /usr/local/lib/python3.12/dist-packages (from streamlit) (0.9.1)\n",
            "Requirement already satisfied: tornado!=6.5.0,<7,>=6.0.3 in /usr/local/lib/python3.12/dist-packages (from streamlit) (6.5.1)\n",
            "Requirement already satisfied: jinja2 in /usr/local/lib/python3.12/dist-packages (from altair!=5.4.0,!=5.4.1,<6,>=4.0->streamlit) (3.1.6)\n",
            "Requirement already satisfied: jsonschema>=3.0 in /usr/local/lib/python3.12/dist-packages (from altair!=5.4.0,!=5.4.1,<6,>=4.0->streamlit) (4.25.1)\n",
            "Requirement already satisfied: narwhals>=1.14.2 in /usr/local/lib/python3.12/dist-packages (from altair!=5.4.0,!=5.4.1,<6,>=4.0->streamlit) (2.8.0)\n",
            "Requirement already satisfied: gitdb<5,>=4.0.1 in /usr/local/lib/python3.12/dist-packages (from gitpython!=3.1.19,<4,>=3.0.7->streamlit) (4.0.12)\n",
            "Requirement already satisfied: python-dateutil>=2.8.2 in /usr/local/lib/python3.12/dist-packages (from pandas<3,>=1.4.0->streamlit) (2.9.0.post0)\n",
            "Requirement already satisfied: pytz>=2020.1 in /usr/local/lib/python3.12/dist-packages (from pandas<3,>=1.4.0->streamlit) (2025.2)\n",
            "Requirement already satisfied: tzdata>=2022.7 in /usr/local/lib/python3.12/dist-packages (from pandas<3,>=1.4.0->streamlit) (2025.2)\n",
            "Requirement already satisfied: charset_normalizer<4,>=2 in /usr/local/lib/python3.12/dist-packages (from requests<3,>=2.27->streamlit) (3.4.4)\n",
            "Requirement already satisfied: idna<4,>=2.5 in /usr/local/lib/python3.12/dist-packages (from requests<3,>=2.27->streamlit) (3.11)\n",
            "Requirement already satisfied: urllib3<3,>=1.21.1 in /usr/local/lib/python3.12/dist-packages (from requests<3,>=2.27->streamlit) (2.5.0)\n",
            "Requirement already satisfied: certifi>=2017.4.17 in /usr/local/lib/python3.12/dist-packages (from requests<3,>=2.27->streamlit) (2025.10.5)\n",
            "Requirement already satisfied: smmap<6,>=3.0.1 in /usr/local/lib/python3.12/dist-packages (from gitdb<5,>=4.0.1->gitpython!=3.1.19,<4,>=3.0.7->streamlit) (5.0.2)\n",
            "Requirement already satisfied: MarkupSafe>=2.0 in /usr/local/lib/python3.12/dist-packages (from jinja2->altair!=5.4.0,!=5.4.1,<6,>=4.0->streamlit) (3.0.3)\n",
            "Requirement already satisfied: attrs>=22.2.0 in /usr/local/lib/python3.12/dist-packages (from jsonschema>=3.0->altair!=5.4.0,!=5.4.1,<6,>=4.0->streamlit) (25.4.0)\n",
            "Requirement already satisfied: jsonschema-specifications>=2023.03.6 in /usr/local/lib/python3.12/dist-packages (from jsonschema>=3.0->altair!=5.4.0,!=5.4.1,<6,>=4.0->streamlit) (2025.9.1)\n",
            "Requirement already satisfied: referencing>=0.28.4 in /usr/local/lib/python3.12/dist-packages (from jsonschema>=3.0->altair!=5.4.0,!=5.4.1,<6,>=4.0->streamlit) (0.37.0)\n",
            "Requirement already satisfied: rpds-py>=0.7.1 in /usr/local/lib/python3.12/dist-packages (from jsonschema>=3.0->altair!=5.4.0,!=5.4.1,<6,>=4.0->streamlit) (0.27.1)\n",
            "Requirement already satisfied: six>=1.5 in /usr/local/lib/python3.12/dist-packages (from python-dateutil>=2.8.2->pandas<3,>=1.4.0->streamlit) (1.17.0)\n"
          ]
        }
      ]
    },
    {
      "cell_type": "markdown",
      "source": [
        "installing important libraries quietly"
      ],
      "metadata": {
        "id": "GsjQxyMALtg1"
      }
    },
    {
      "cell_type": "code",
      "source": [
        "!pip -q install pandas numpy scikit-learn joblib streamlit cloudflared\n"
      ],
      "metadata": {
        "id": "zpiZjyDfHOAr"
      },
      "execution_count": null,
      "outputs": []
    },
    {
      "cell_type": "markdown",
      "source": [
        "writing content into the file, this script contains functions for building synthetic data, preprocessing data, adding implicit feedback, training collaborative filtering and content-based filtering models, evaluating the models, and saving the trained models and data.\n",
        "\n",
        "\n",
        "\n"
      ],
      "metadata": {
        "id": "UFR0AG_KMlF7"
      }
    },
    {
      "cell_type": "code",
      "source": [
        "%%writefile /content/smart_recommender.py\n",
        "import os, math, random\n",
        "import numpy as np, pandas as pd\n",
        "from sklearn.decomposition import TruncatedSVD\n",
        "from sklearn.feature_extraction.text import TfidfVectorizer\n",
        "from sklearn.metrics.pairwise import cosine_similarity\n",
        "from sklearn.metrics import mean_squared_error\n",
        "from sklearn.model_selection import train_test_split\n",
        "import joblib\n",
        "\n",
        "SEED=42\n",
        "random.seed(SEED); np.random.seed(SEED)\n",
        "\n",
        "def build_synth(n_users=600,n_items=350,minr=10,maxr=25):\n",
        "    users=[f\"U{u}\" for u in range(1,n_users+1)]\n",
        "    items=[f\"P{i}\" for i in range(1,n_items+1)]\n",
        "    cats=['Electronic','Books','Home','Toys','Beauty','Sports','Clothing','Grocery']\n",
        "    rows=[]\n",
        "    for u in users:\n",
        "        k=np.random.randint(minr,maxr+1)\n",
        "        rated=np.random.choice(items,size=k,replace=False)\n",
        "        for it in rated:\n",
        "            r=np.clip(np.random.normal(3.6,1.0),1,5)\n",
        "            r=round(r*2)/2.0\n",
        "            rows.append((u,it,r))\n",
        "    ratings=pd.DataFrame(rows,columns=['userId','productId','rating'])\n",
        "    kw={'Electronic':['battery','wireless','bluetooth','USB','portable','charger'],\n",
        "        'Books':['story','novel','guide','history','author','learn'],\n",
        "        'Home':['kitchen','durable','design','compact','decor','clean'],\n",
        "        'Toys':['kids','fun','safe','interactive','educational','colorful'],\n",
        "        'Beauty':['gentle','skin','organic','scent','serum','moisturizer'],\n",
        "        'Sports':['fitness','outdoor','durable','training','performance','comfort'],\n",
        "        'Clothing':['fabric','comfortable','casual','size','style','soft'],\n",
        "        'Grocery':['fresh','organic','snack','ingredients','package','tasty']}\n",
        "    metas=[]\n",
        "    for i,p in enumerate(items,1):\n",
        "        c=random.choice(cats); title=f\"{c} Product {i}\"\n",
        "        desc=\" \".join(np.random.choice(kw[c],size=6,replace=True))\n",
        "        metas.append({'productId':p,'title':title,'category':c,'description':f\"{title}. {desc}. High quality and good value.\"})\n",
        "    products=pd.DataFrame(metas)\n",
        "    return ratings,products\n",
        "\n",
        "def preprocess(df):\n",
        "    df=df.drop_duplicates().dropna(subset=['userId','productId','rating']).reset_index(drop=True)\n",
        "    df['userId']=df['userId'].astype(str); df['productId']=df['productId'].astype(str)\n",
        "    df['rating']=pd.to_numeric(df['rating'],errors='coerce').astype(float)\n",
        "    return df\n",
        "\n",
        "def add_implicit(df):\n",
        "    mult=np.random.uniform(0.8,1.4,size=len(df))\n",
        "    df=df.copy()\n",
        "    df['implicit_score']=(df['rating']/5.0)*mult\n",
        "    return df\n",
        "\n",
        "def train_cf(train_df,n_components=30):\n",
        "    users=sorted(train_df['userId'].unique())\n",
        "    items=sorted(train_df['productId'].unique())\n",
        "    pivot=train_df.pivot_table(index='userId',columns='productId',values='rating').reindex(index=users,columns=items)\n",
        "    filled=pivot.copy()\n",
        "    umean=pivot.mean(axis=1); gmean=train_df['rating'].mean()\n",
        "    for u in users:\n",
        "        filled.loc[u]=filled.loc[u].fillna(umean.loc[u] if not np.isnan(umean.loc[u]) else gmean)\n",
        "    svd=TruncatedSVD(n_components=n_components,random_state=SEED)\n",
        "    U=svd.fit_transform(filled.values); V=svd.components_.T\n",
        "    pred=np.dot(U,V.T)\n",
        "    pred_df=pd.DataFrame(pred,index=users,columns=items)\n",
        "    return svd,pred_df,filled\n",
        "\n",
        "def train_cbf(products,max_features=2000):\n",
        "    vec=TfidfVectorizer(max_features=max_features,stop_words='english')\n",
        "    X=vec.fit_transform(products['description'].fillna(products['title'].fillna('')))\n",
        "    return vec,X\n",
        "\n",
        "def evaluate_rmse(pred_df,test_df):\n",
        "    y_true=[]; y_pred=[]\n",
        "    for _,r in test_df.iterrows():\n",
        "        u,p,rt=r['userId'],r['productId'],r['rating']\n",
        "        if (u in pred_df.index) and (p in pred_df.columns):\n",
        "            y_true.append(rt); y_pred.append(pred_df.loc[u,p])\n",
        "    return mean_squared_error(y_true,y_pred,squared=False) if y_true else None\n",
        "\n",
        "def precision_at_k(pred_df,train_df,test_df,k=5,thr=4.0):\n",
        "    users=test_df['userId'].unique(); precs=[]\n",
        "    for u in users:\n",
        "        if u not in pred_df.index: continue\n",
        "        train_items=set(train_df[train_df['userId']==u]['productId'])\n",
        "        cand=[i for i in pred_df.columns if i not in train_items]\n",
        "        if not cand: continue\n",
        "        top=sorted([(i,pred_df.loc[u,i]) for i in cand],key=lambda x:x[1],reverse=True)[:k]\n",
        "        top_ids=[i for i,_ in top]\n",
        "        relevant=set(test_df[(test_df['userId']==u)&(test_df['rating']>=thr)]['productId'])\n",
        "        if not top_ids: continue\n",
        "        prec=len([i for i in top_ids if i in relevant])/len(top_ids)\n",
        "        precs.append(prec)\n",
        "    return float(np.mean(precs)) if precs else 0.0\n",
        "\n",
        "def train_and_save():\n",
        "    ratings,products=build_synth()\n",
        "    ratings=preprocess(ratings)\n",
        "    ratings=add_implicit(ratings)\n",
        "    train_df,test_df=train_test_split(ratings,test_size=0.2,random_state=SEED)\n",
        "    svd,pred_df,filled=train_cf(train_df,30)\n",
        "    vec,X=train_cbf(products)\n",
        "    rmse=evaluate_rmse(pred_df,test_df)\n",
        "    p5=precision_at_k(pred_df,train_df,test_df,5,4.0)\n",
        "    print(f\"RMSE: {rmse:.4f} | Precision@5: {p5:.4f}\")\n",
        "    out=\"/content/recommender_app/models\"; os.makedirs(out,exist_ok=True)\n",
        "    joblib.dump(pred_df, f\"{out}/pred_matrix_df.pkl\")\n",
        "    joblib.dump(svd, f\"{out}/truncated_svd.pkl\")\n",
        "    joblib.dump(vec, f\"{out}/tfidf_vectorizer.pkl\")\n",
        "    joblib.dump(X, f\"{out}/tfidf_matrix.pkl\")\n",
        "    products.to_pickle(f\"{out}/products_df.pkl\")\n",
        "    train_df.to_pickle(f\"{out}/train_ratings_df.pkl\")\n",
        "    print(\"Artifacts saved to\", out)\n",
        "\n",
        "if __name__==\"__main__\":\n",
        "    train_and_save()\n"
      ],
      "metadata": {
        "colab": {
          "base_uri": "https://localhost:8080/"
        },
        "id": "XALtgPzMH53H",
        "outputId": "a0ec6597-b678-40fd-c4eb-c4a8d15f9a03"
      },
      "execution_count": null,
      "outputs": [
        {
          "output_type": "stream",
          "name": "stdout",
          "text": [
            "Overwriting /content/smart_recommender.py\n"
          ]
        }
      ]
    },
    {
      "cell_type": "markdown",
      "source": [
        "uses a bash script to patch the evaluate_rmse function within the file. It replaces the original implementation with a new one that uses numpy for calculation and handles cases where there are no true values to compare against."
      ],
      "metadata": {
        "id": "6rix6k49M8rA"
      }
    },
    {
      "cell_type": "code",
      "source": [
        "%%bash\n",
        "python - <<'PY'\n",
        "from pathlib import Path\n",
        "p = Path(\"/content/smart_recommender.py\")\n",
        "if not p.exists():\n",
        "    print(\"ERROR: /content/smart_recommender.py not found. Make sure file path is correct.\")\n",
        "    raise SystemExit(1)\n",
        "\n",
        "text = p.read_text()\n",
        "\n",
        "old_snip = \"\"\"\n",
        "def evaluate_rmse(pred_df,test_df):\n",
        "    y_true=[]; y_pred=[]\n",
        "    for _,r in test_df.iterrows():\n",
        "        u,p,rt=r['userId'],r['productId'],r['rating']\n",
        "        if (u in pred_df.index) and (p in pred_df.columns):\n",
        "            y_true.append(rt); y_pred.append(pred_df.loc[u,p])\n",
        "    return mean_squared_error(y_true,y_pred,squared=False) if y_true else None\n",
        "\"\"\"\n",
        "\n",
        "new_snip = \"\"\"\n",
        "import numpy as np\n",
        "def evaluate_rmse(pred_df,test_df):\n",
        "    y_true = []\n",
        "    y_pred = []\n",
        "    for _,r in test_df.iterrows():\n",
        "        u = r['userId']; p = r['productId']; rt = r['rating']\n",
        "        if (u in pred_df.index) and (p in pred_df.columns):\n",
        "            y_true.append(rt)\n",
        "            y_pred.append(pred_df.loc[u, p])\n",
        "    if len(y_true) == 0:\n",
        "        return None\n",
        "    y_true = np.array(y_true, dtype=float)\n",
        "    y_pred = np.array(y_pred, dtype=float)\n",
        "    mse = np.mean((y_true - y_pred) ** 2)\n",
        "    return float(np.sqrt(mse))\n",
        "\"\"\"\n",
        "\n",
        "if old_snip in text:\n",
        "    text = text.replace(old_snip, new_snip)\n",
        "    p.write_text(text)\n",
        "    print(\"Patched evaluate_rmse in /content/smart_recommender.py\")\n",
        "else:\n",
        "    import re\n",
        "    if re.search(r\"def evaluate_rmse\\(\", text):\n",
        "        text = re.sub(r\"def evaluate_rmse\\\\([\\\\s\\\\S]*?\\\\)\\\\n\\\\s*return[\\\\s\\\\S]*?\\\\n\", new_snip + \"\\n\", text, flags=re.MULTILINE)\n",
        "        p.write_text(text)\n",
        "        print(\"Replaced evaluate_rmse via regex in /content/smart_recommender.py\")\n",
        "    else:\n",
        "        print(\"Could not find evaluate_rmse function. Please open the file and replace the function with the new version manually.\")\n",
        "PY\n"
      ],
      "metadata": {
        "colab": {
          "base_uri": "https://localhost:8080/"
        },
        "id": "cVfjYTmsVESu",
        "outputId": "82d1f67d-246a-49f7-8764-57d091101c7c"
      },
      "execution_count": null,
      "outputs": [
        {
          "output_type": "stream",
          "name": "stdout",
          "text": [
            "Patched evaluate_rmse in /content/smart_recommender.py\n"
          ]
        }
      ]
    },
    {
      "cell_type": "markdown",
      "source": [
        "This runs the train_and_save function within the script, which builds synthetic data, trains the recommender models, evaluates them, and saves the artifacts to the directory and The output shows the RMSE and Precision@5 scores, and confirms where the artifacts were saved."
      ],
      "metadata": {
        "id": "safcpr20NPEW"
      }
    },
    {
      "cell_type": "code",
      "source": [
        "!python /content/smart_recommender.py\n"
      ],
      "metadata": {
        "colab": {
          "base_uri": "https://localhost:8080/"
        },
        "id": "M5Jnsmb9IWLV",
        "outputId": "a81b91e4-3a85-4b44-9eed-dbd3b23711cd"
      },
      "execution_count": null,
      "outputs": [
        {
          "output_type": "stream",
          "name": "stdout",
          "text": [
            "RMSE: 0.9577 | Precision@5: 0.0045\n",
            "Artifacts saved to /content/recommender_app/models\n"
          ]
        }
      ]
    },
    {
      "cell_type": "markdown",
      "source": [
        "This cell writes the Python code for a Streamlit web application into a file named streamlit_recommender_app.py in the /content/ directory. This app loads the saved model artifacts and provides a user interface to get product recommendations based on user ID. It implements a hybrid recommendation approach and displays information about the recommended products, including explanations for the recommendations."
      ],
      "metadata": {
        "id": "Zyx11_J7Nrns"
      }
    },
    {
      "cell_type": "code",
      "source": [
        "%%writefile /content/streamlit_recommender_app.py\n",
        "import streamlit as st\n",
        "import pandas as pd\n",
        "import numpy as np\n",
        "import joblib\n",
        "from sklearn.metrics.pairwise import cosine_similarity\n",
        "\n",
        "@st.cache_resource\n",
        "def load_artifacts():\n",
        "    pred_matrix_df = joblib.load(\"/content/recommender_app/models/pred_matrix_df.pkl\")\n",
        "    svd = joblib.load(\"/content/recommender_app/models/truncated_svd.pkl\")\n",
        "    tfidf_vectorizer = joblib.load(\"/content/recommender_app/models/tfidf_vectorizer.pkl\")\n",
        "    tfidf_matrix = joblib.load(\"/content/recommender_app/models/tfidf_matrix.pkl\")\n",
        "    products_df = pd.read_pickle(\"/content/recommender_app/models/products_df.pkl\")\n",
        "    ratings_df = pd.read_pickle(\"/content/recommender_app/models/train_ratings_df.pkl\")\n",
        "    return pred_matrix_df, tfidf_vectorizer, tfidf_matrix, products_df, ratings_df\n",
        "\n",
        "pred_matrix_df, tfidf_vectorizer, tfidf_matrix, products_df, ratings_df = load_artifacts()\n",
        "\n",
        "CATEGORY_TO_IMAGE = {\n",
        "    \"Electronic\": \"https://source.unsplash.com/800x520/?electronic,gadgets\",\n",
        "    \"Books\": \"https://source.unsplash.com/800x520/?books,reading\",\n",
        "    \"Home\": \"https://source.unsplash.com/800x520/?home,interior\",\n",
        "    \"Toys\": \"https://source.unsplash.com/800x520/?toys,kids\",\n",
        "    \"Beauty\": \"https://source.unsplash.com/800x520/?beauty,cosmetics\",\n",
        "    \"Sports\": \"https://source.unsplash.com/800x520/?sports,fitness\",\n",
        "    \"Clothing\": \"https://source.unsplash.com/800x520/?clothing,fashion\",\n",
        "    \"Grocery\": \"https://source.unsplash.com/800x520/?grocery,food\",\n",
        "}\n",
        "def img_for(cat): return CATEGORY_TO_IMAGE.get(cat, \"https://source.unsplash.com/800x520/?product\")\n",
        "\n",
        "PROD_TO_IDX = {pid: idx for idx, pid in enumerate(products_df[\"productId\"])}\n",
        "POPULAR_ORDER = list(ratings_df[\"productId\"].value_counts().index)\n",
        "\n",
        "def dynamic_weights(num_ratings, min_r=5, max_r=40):\n",
        "    if num_ratings <= min_r: a_cf = 0.25\n",
        "    else: a_cf = 0.25 + 0.65 * min(num_ratings - min_r, max_r - min_r) / (max_r - min_r)\n",
        "    return a_cf, 1.0 - a_cf\n",
        "\n",
        "def build_explanations(user_id, pid, cf_raw, cbf_score):\n",
        "    reasons=[]\n",
        "    cf_norm=(cf_raw-1)/4 if cf_raw is not None else 0.0\n",
        "    if cf_norm>0.5: reasons.append(\"Users with tastes like yours rated this highly.\")\n",
        "    liked = ratings_df[(ratings_df.userId==user_id) & (ratings_df.rating>=4.0)]['productId'].tolist()\n",
        "    if cbf_score>0.12 and liked:\n",
        "        liked_idxs=[PROD_TO_IDX[l] for l in liked if l in PROD_TO_IDX]\n",
        "        if pid in PROD_TO_IDX and liked_idxs:\n",
        "            p_idx=PROD_TO_IDX[pid]\n",
        "            sims=cosine_similarity(tfidf_matrix[p_idx], tfidf_matrix[liked_idxs]).flatten()\n",
        "            best_idx=liked_idxs[int(np.argmax(sims))]\n",
        "            best_title=products_df.iloc[best_idx]['title']\n",
        "            reasons.append(f\"Similar to what you liked: '{best_title}'.\")\n",
        "        else:\n",
        "            reasons.append(\"Shares features with items you liked.\")\n",
        "    if pid in POPULAR_ORDER:\n",
        "        rnk=POPULAR_ORDER.index(pid)+1\n",
        "        if rnk<=20: reasons.append(f\"Popular choice (top {rnk} most-rated).\")\n",
        "    if not reasons: reasons.append(\"Recommended by hybrid model signals.\")\n",
        "    return reasons\n",
        "\n",
        "def recommend(user_id, n=5):\n",
        "    all_p = products_df['productId'].tolist()\n",
        "    seen = ratings_df[ratings_df.userId==user_id]['productId'].tolist()\n",
        "    cand = [p for p in all_p if p not in seen]\n",
        "    num_r = len(ratings_df[ratings_df.userId==user_id])\n",
        "    a_cf,a_cbf = dynamic_weights(num_r)\n",
        "    rows=[]\n",
        "    for p in cand:\n",
        "        cf_raw = float(pred_matrix_df.loc[user_id,p]) if (user_id in pred_matrix_df.index and p in pred_matrix_df.columns) else 0.0\n",
        "        cf_norm=(cf_raw-1)/4\n",
        "        liked = ratings_df[(ratings_df.userId==user_id) & (ratings_df.rating>=4.0)]['productId'].tolist()\n",
        "        if liked and (p in PROD_TO_IDX):\n",
        "            p_idx=PROD_TO_IDX[p]\n",
        "            liked_idxs=[PROD_TO_IDX[l] for l in liked if l in PROD_TO_IDX]\n",
        "            cbf_sim = float(cosine_similarity(tfidf_matrix[p_idx], tfidf_matrix[liked_idxs]).flatten().mean()) if liked_idxs else 0.0\n",
        "        else:\n",
        "            cbf_sim=0.0\n",
        "        score = a_cf*cf_norm + a_cbf*cbf_sim\n",
        "        meta = products_df.loc[products_df.productId==p].iloc[0]\n",
        "        rows.append({\n",
        "            \"productId\": p,\n",
        "            \"title\": meta[\"title\"],\n",
        "            \"category\": meta[\"category\"],\n",
        "            \"description\": meta[\"description\"],\n",
        "            \"hybrid_score\": float(score),\n",
        "            \"cf_raw\": float(cf_raw),\n",
        "            \"cbf_sim\": float(cbf_sim),\n",
        "            \"reasons\": build_explanations(user_id,p,cf_raw,cbf_sim),\n",
        "            \"image_url\": img_for(meta[\"category\"]),\n",
        "        })\n",
        "    out = pd.DataFrame(rows).sort_values(\"hybrid_score\", ascending=False).head(n).reset_index(drop=True)\n",
        "    return out, a_cf, a_cbf\n",
        "\n",
        "st.title(\"Product Recommender App\")\n",
        "st.caption(\"Weighted Hybrid: Collaborative + Content-Based with explanations\")\n",
        "\n",
        "users = sorted(ratings_df['userId'].unique())\n",
        "user = st.selectbox(\"Select User ID\", users)\n",
        "n = st.slider(\"Number of recommendations\", 3, 10, 5)\n",
        "\n",
        "if st.button(\"🔍 Get Recommendations\"):\n",
        "    df, a_cf, a_cbf = recommend(user, n)\n",
        "    st.subheader(f\"Recommendations for {user}\")\n",
        "    st.caption(f\"Weights → CF: {a_cf:.2f} | CBF: {a_cbf:.2f}\")\n",
        "    for _, row in df.iterrows():\n",
        "        st.image(row[\"image_url\"])\n",
        "        st.markdown(f\"### {row['title']}\")\n",
        "        st.markdown(f\"*Category:* {row['category']}\")\n",
        "        st.markdown(f\"**Hybrid Score:** {row['hybrid_score']:.3f}  |  **CF(raw):** {row['cf_raw']:.3f}  |  **CBF(sim):** {row['cbf_sim']:.3f}\")\n",
        "        st.markdown(\"**Why this?**\")\n",
        "        for reason in row[\"reasons\"]:\n",
        "            st.markdown(f\"- {reason}\")\n",
        "        st.caption(row[\"description\"][:220] + (\"...\" if len(row[\"description\"])>220 else \"\"))\n",
        "        st.divider()\n",
        "\n",
        "st.sidebar.header(\"How it works\")\n",
        "st.sidebar.markdown(\"- **CF** learns from similar users' ratings.\\n- **CBF** compares product text (TF-IDF).\\n- **Weights** adapt to how active the user is (cold-start aware).\\n- Unsplash placeholders used for images; replace with your own if available.\")\n"
      ],
      "metadata": {
        "colab": {
          "base_uri": "https://localhost:8080/"
        },
        "id": "i6WcFixSIgja",
        "outputId": "aa248feb-2533-4046-954f-a226c8a209f9"
      },
      "execution_count": null,
      "outputs": [
        {
          "output_type": "stream",
          "name": "stdout",
          "text": [
            "Overwriting /content/streamlit_recommender_app.py\n"
          ]
        }
      ]
    },
    {
      "cell_type": "markdown",
      "source": [
        "This cell uses bash commands to first kill any running Streamlit or cloudflared processes. Then, it starts the Streamlit application in the background on port 8501 and starts a cloudflared tunnel to expose the Streamlit app to the internet. The output shows that previous processes were terminated."
      ],
      "metadata": {
        "id": "iU1RAIaaOEO_"
      }
    },
    {
      "cell_type": "code",
      "source": [
        "!pkill -f streamlit || true\n",
        "!pkill -f cloudflared || true\n",
        "\n",
        "!streamlit run /content/streamlit_recommender_app.py --server.port 8501 --server.headless true &>/content/streamlit.log &\n",
        "\n",
        "!nohup cloudflared tunnel --url http://localhost:8501 --no-autoupdate > /content/cf.log 2>&1 &"
      ],
      "metadata": {
        "colab": {
          "base_uri": "https://localhost:8080/"
        },
        "id": "zBVNrZq2Im2C",
        "outputId": "1570afe4-1b23-4154-bd65-69831762ea57"
      },
      "execution_count": null,
      "outputs": [
        {
          "output_type": "stream",
          "name": "stdout",
          "text": [
            "^C\n",
            "^C\n"
          ]
        }
      ]
    },
    {
      "cell_type": "markdown",
      "source": [
        "This cell downloads the cloudflared executable for Linux and makes it executable. The output indicates that the file is busy, likely because the previous cell is already using it."
      ],
      "metadata": {
        "id": "5pnhtFyxOGsk"
      }
    },
    {
      "cell_type": "code",
      "metadata": {
        "colab": {
          "base_uri": "https://localhost:8080/"
        },
        "id": "06251fd7",
        "outputId": "4494e30e-a4d4-47f3-9572-8e79e09162a6"
      },
      "source": [
        "!wget https://github.com/cloudflare/cloudflared/releases/latest/download/cloudflared-linux-amd64 -O /usr/local/bin/cloudflared\n",
        "!chmod +x /usr/local/bin/cloudflared"
      ],
      "execution_count": null,
      "outputs": [
        {
          "output_type": "stream",
          "name": "stdout",
          "text": [
            "/usr/local/bin/cloudflared: Text file busy\n"
          ]
        }
      ]
    },
    {
      "cell_type": "markdown",
      "source": [
        "This cell uses bash commands to check if the Streamlit process is running, display the first 200 lines of the Streamlit log file, and extract the public URL generated by cloudflared from the cloudflared log file. The output confirms the Streamlit process is running, shows some initial Streamlit logs, and provides the public URL to access the app."
      ],
      "metadata": {
        "id": "EOD_A1BBOV5c"
      }
    },
    {
      "cell_type": "code",
      "source": [
        "!ps -ef | grep streamlit | grep -v grep\n",
        "\n",
        "!sed -n '1,200p' /content/streamlit.log\n",
        "\n",
        "!grep -o 'https://.*trycloudflare.com' -m 1 /content/cf.log"
      ],
      "metadata": {
        "id": "v6yCIKuFIm02",
        "colab": {
          "base_uri": "https://localhost:8080/"
        },
        "outputId": "6aabd1c9-b1c9-4b5d-f3b8-54f5b4a86ea4"
      },
      "execution_count": null,
      "outputs": [
        {
          "output_type": "stream",
          "name": "stdout",
          "text": [
            "root        7556       1 11 16:26 ?        00:00:00 /usr/bin/python3 /usr/local/bin/streamlit run /content/streamlit_recommender_app.py --server.port 8501 --server.headless true\n",
            "\n",
            "Collecting usage statistics. To deactivate, set browser.gatherUsageStats to false.\n",
            "\n",
            "\n",
            "  You can now view your Streamlit app in your browser.\n",
            "\n",
            "  Local URL: http://localhost:8501\n",
            "  Network URL: http://172.28.0.12:8501\n",
            "  External URL: http://34.168.88.11:8501\n",
            "\n",
            "https://promising-genesis-medicines-guest.trycloudflare.com\n"
          ]
        }
      ]
    }
  ]
}